{
  "nbformat": 4,
  "nbformat_minor": 0,
  "metadata": {
    "colab": {
      "name": "Stock value Prediction Model",
      "provenance": [],
      "authorship_tag": "ABX9TyM2Tih0fkZ/5keWjVFKEW1U",
      "include_colab_link": true
    },
    "kernelspec": {
      "name": "python3",
      "display_name": "Python 3"
    },
    "language_info": {
      "name": "python"
    }
  },
  "cells": [
    {
      "cell_type": "markdown",
      "metadata": {
        "id": "view-in-github",
        "colab_type": "text"
      },
      "source": [
        "<a href=\"https://colab.research.google.com/github/princ1211/StockVal-Predictor/blob/main/Stock_value_Prediction_Model.ipynb\" target=\"_parent\"><img src=\"https://colab.research.google.com/assets/colab-badge.svg\" alt=\"Open In Colab\"/></a>"
      ]
    },
    {
      "cell_type": "code",
      "metadata": {
        "id": "4SMytClyVeLJ"
      },
      "source": [
        "import pandas as pd\n",
        "import numpy as np \n",
        "import matplotlib.pyplot as plt\n",
        "plt.style.use('fivethirtyeight')\n",
        "from sklearn.preprocessing import MinMaxScaler\n",
        "from keras.models import Sequential \n",
        "from keras.layers import Dense, LSTM\n",
        "import math\n",
        "import pandas_datareader as web\n",
        "  "
      ],
      "execution_count": 1,
      "outputs": []
    },
    {
      "cell_type": "code",
      "metadata": {
        "colab": {
          "base_uri": "https://localhost:8080/"
        },
        "id": "_TqB_VF2Y3cx",
        "outputId": "3dbef479-38b8-4e68-8037-d42f165cb603"
      },
      "source": [
        "pip install yfinance"
      ],
      "execution_count": 2,
      "outputs": [
        {
          "output_type": "stream",
          "name": "stdout",
          "text": [
            "Collecting yfinance\n",
            "  Downloading yfinance-0.1.63.tar.gz (26 kB)\n",
            "Requirement already satisfied: pandas>=0.24 in /usr/local/lib/python3.7/dist-packages (from yfinance) (1.1.5)\n",
            "Requirement already satisfied: numpy>=1.15 in /usr/local/lib/python3.7/dist-packages (from yfinance) (1.19.5)\n",
            "Requirement already satisfied: requests>=2.20 in /usr/local/lib/python3.7/dist-packages (from yfinance) (2.23.0)\n",
            "Requirement already satisfied: multitasking>=0.0.7 in /usr/local/lib/python3.7/dist-packages (from yfinance) (0.0.9)\n",
            "Collecting lxml>=4.5.1\n",
            "  Downloading lxml-4.6.3-cp37-cp37m-manylinux2014_x86_64.whl (6.3 MB)\n",
            "\u001b[K     |████████████████████████████████| 6.3 MB 12.9 MB/s \n",
            "\u001b[?25hRequirement already satisfied: python-dateutil>=2.7.3 in /usr/local/lib/python3.7/dist-packages (from pandas>=0.24->yfinance) (2.8.2)\n",
            "Requirement already satisfied: pytz>=2017.2 in /usr/local/lib/python3.7/dist-packages (from pandas>=0.24->yfinance) (2018.9)\n",
            "Requirement already satisfied: six>=1.5 in /usr/local/lib/python3.7/dist-packages (from python-dateutil>=2.7.3->pandas>=0.24->yfinance) (1.15.0)\n",
            "Requirement already satisfied: chardet<4,>=3.0.2 in /usr/local/lib/python3.7/dist-packages (from requests>=2.20->yfinance) (3.0.4)\n",
            "Requirement already satisfied: certifi>=2017.4.17 in /usr/local/lib/python3.7/dist-packages (from requests>=2.20->yfinance) (2021.5.30)\n",
            "Requirement already satisfied: idna<3,>=2.5 in /usr/local/lib/python3.7/dist-packages (from requests>=2.20->yfinance) (2.10)\n",
            "Requirement already satisfied: urllib3!=1.25.0,!=1.25.1,<1.26,>=1.21.1 in /usr/local/lib/python3.7/dist-packages (from requests>=2.20->yfinance) (1.24.3)\n",
            "Building wheels for collected packages: yfinance\n",
            "  Building wheel for yfinance (setup.py) ... \u001b[?25l\u001b[?25hdone\n",
            "  Created wheel for yfinance: filename=yfinance-0.1.63-py2.py3-none-any.whl size=23918 sha256=e30433ad94c6d6ce6119e01b12a5ee3b14e47032a04f3d621ff0a58f504882a0\n",
            "  Stored in directory: /root/.cache/pip/wheels/fe/87/8b/7ec24486e001d3926537f5f7801f57a74d181be25b11157983\n",
            "Successfully built yfinance\n",
            "Installing collected packages: lxml, yfinance\n",
            "  Attempting uninstall: lxml\n",
            "    Found existing installation: lxml 4.2.6\n",
            "    Uninstalling lxml-4.2.6:\n",
            "      Successfully uninstalled lxml-4.2.6\n",
            "Successfully installed lxml-4.6.3 yfinance-0.1.63\n"
          ]
        }
      ]
    },
    {
      "cell_type": "code",
      "metadata": {
        "id": "484SuKjhY7vH"
      },
      "source": [
        "import yfinance as yf"
      ],
      "execution_count": 3,
      "outputs": []
    },
    {
      "cell_type": "code",
      "metadata": {
        "colab": {
          "base_uri": "https://localhost:8080/",
          "height": 464
        },
        "id": "GXAvsUrEWXEj",
        "outputId": "49eb8541-e1fd-4f8d-8bee-88f298e3f473"
      },
      "source": [
        " df = yf.download('AAPL','2012-01-01','2020-08-01')\n",
        "df"
      ],
      "execution_count": 4,
      "outputs": [
        {
          "output_type": "stream",
          "name": "stdout",
          "text": [
            "\r[*********************100%***********************]  1 of 1 completed\n"
          ]
        },
        {
          "output_type": "execute_result",
          "data": {
            "text/html": [
              "<div>\n",
              "<style scoped>\n",
              "    .dataframe tbody tr th:only-of-type {\n",
              "        vertical-align: middle;\n",
              "    }\n",
              "\n",
              "    .dataframe tbody tr th {\n",
              "        vertical-align: top;\n",
              "    }\n",
              "\n",
              "    .dataframe thead th {\n",
              "        text-align: right;\n",
              "    }\n",
              "</style>\n",
              "<table border=\"1\" class=\"dataframe\">\n",
              "  <thead>\n",
              "    <tr style=\"text-align: right;\">\n",
              "      <th></th>\n",
              "      <th>Open</th>\n",
              "      <th>High</th>\n",
              "      <th>Low</th>\n",
              "      <th>Close</th>\n",
              "      <th>Adj Close</th>\n",
              "      <th>Volume</th>\n",
              "    </tr>\n",
              "    <tr>\n",
              "      <th>Date</th>\n",
              "      <th></th>\n",
              "      <th></th>\n",
              "      <th></th>\n",
              "      <th></th>\n",
              "      <th></th>\n",
              "      <th></th>\n",
              "    </tr>\n",
              "  </thead>\n",
              "  <tbody>\n",
              "    <tr>\n",
              "      <th>2012-01-03</th>\n",
              "      <td>14.621429</td>\n",
              "      <td>14.732143</td>\n",
              "      <td>14.607143</td>\n",
              "      <td>14.686786</td>\n",
              "      <td>12.610315</td>\n",
              "      <td>302220800</td>\n",
              "    </tr>\n",
              "    <tr>\n",
              "      <th>2012-01-04</th>\n",
              "      <td>14.642857</td>\n",
              "      <td>14.810000</td>\n",
              "      <td>14.617143</td>\n",
              "      <td>14.765714</td>\n",
              "      <td>12.678085</td>\n",
              "      <td>260022000</td>\n",
              "    </tr>\n",
              "    <tr>\n",
              "      <th>2012-01-05</th>\n",
              "      <td>14.819643</td>\n",
              "      <td>14.948214</td>\n",
              "      <td>14.738214</td>\n",
              "      <td>14.929643</td>\n",
              "      <td>12.818838</td>\n",
              "      <td>271269600</td>\n",
              "    </tr>\n",
              "    <tr>\n",
              "      <th>2012-01-06</th>\n",
              "      <td>14.991786</td>\n",
              "      <td>15.098214</td>\n",
              "      <td>14.972143</td>\n",
              "      <td>15.085714</td>\n",
              "      <td>12.952841</td>\n",
              "      <td>318292800</td>\n",
              "    </tr>\n",
              "    <tr>\n",
              "      <th>2012-01-09</th>\n",
              "      <td>15.196429</td>\n",
              "      <td>15.276786</td>\n",
              "      <td>15.048214</td>\n",
              "      <td>15.061786</td>\n",
              "      <td>12.932299</td>\n",
              "      <td>394024400</td>\n",
              "    </tr>\n",
              "    <tr>\n",
              "      <th>...</th>\n",
              "      <td>...</td>\n",
              "      <td>...</td>\n",
              "      <td>...</td>\n",
              "      <td>...</td>\n",
              "      <td>...</td>\n",
              "      <td>...</td>\n",
              "    </tr>\n",
              "    <tr>\n",
              "      <th>2020-07-27</th>\n",
              "      <td>93.709999</td>\n",
              "      <td>94.904999</td>\n",
              "      <td>93.480003</td>\n",
              "      <td>94.809998</td>\n",
              "      <td>94.034538</td>\n",
              "      <td>121214000</td>\n",
              "    </tr>\n",
              "    <tr>\n",
              "      <th>2020-07-28</th>\n",
              "      <td>94.367500</td>\n",
              "      <td>94.550003</td>\n",
              "      <td>93.247498</td>\n",
              "      <td>93.252502</td>\n",
              "      <td>92.489784</td>\n",
              "      <td>103625600</td>\n",
              "    </tr>\n",
              "    <tr>\n",
              "      <th>2020-07-29</th>\n",
              "      <td>93.750000</td>\n",
              "      <td>95.230003</td>\n",
              "      <td>93.712502</td>\n",
              "      <td>95.040001</td>\n",
              "      <td>94.262657</td>\n",
              "      <td>90329200</td>\n",
              "    </tr>\n",
              "    <tr>\n",
              "      <th>2020-07-30</th>\n",
              "      <td>94.187500</td>\n",
              "      <td>96.297501</td>\n",
              "      <td>93.767502</td>\n",
              "      <td>96.190002</td>\n",
              "      <td>95.403267</td>\n",
              "      <td>158130000</td>\n",
              "    </tr>\n",
              "    <tr>\n",
              "      <th>2020-07-31</th>\n",
              "      <td>102.885002</td>\n",
              "      <td>106.415001</td>\n",
              "      <td>100.824997</td>\n",
              "      <td>106.260002</td>\n",
              "      <td>105.390907</td>\n",
              "      <td>374336800</td>\n",
              "    </tr>\n",
              "  </tbody>\n",
              "</table>\n",
              "<p>2159 rows × 6 columns</p>\n",
              "</div>"
            ],
            "text/plain": [
              "                  Open        High  ...   Adj Close     Volume\n",
              "Date                                ...                       \n",
              "2012-01-03   14.621429   14.732143  ...   12.610315  302220800\n",
              "2012-01-04   14.642857   14.810000  ...   12.678085  260022000\n",
              "2012-01-05   14.819643   14.948214  ...   12.818838  271269600\n",
              "2012-01-06   14.991786   15.098214  ...   12.952841  318292800\n",
              "2012-01-09   15.196429   15.276786  ...   12.932299  394024400\n",
              "...                ...         ...  ...         ...        ...\n",
              "2020-07-27   93.709999   94.904999  ...   94.034538  121214000\n",
              "2020-07-28   94.367500   94.550003  ...   92.489784  103625600\n",
              "2020-07-29   93.750000   95.230003  ...   94.262657   90329200\n",
              "2020-07-30   94.187500   96.297501  ...   95.403267  158130000\n",
              "2020-07-31  102.885002  106.415001  ...  105.390907  374336800\n",
              "\n",
              "[2159 rows x 6 columns]"
            ]
          },
          "metadata": {},
          "execution_count": 4
        }
      ]
    },
    {
      "cell_type": "code",
      "metadata": {
        "colab": {
          "base_uri": "https://localhost:8080/"
        },
        "id": "7-i2Bn9IZjvi",
        "outputId": "c3e25a39-eb12-48ff-f106-37ff16998798"
      },
      "source": [
        "df.shape"
      ],
      "execution_count": 5,
      "outputs": [
        {
          "output_type": "execute_result",
          "data": {
            "text/plain": [
              "(2159, 6)"
            ]
          },
          "metadata": {},
          "execution_count": 5
        }
      ]
    },
    {
      "cell_type": "code",
      "metadata": {
        "colab": {
          "base_uri": "https://localhost:8080/",
          "height": 513
        },
        "id": "cG8vQ6LXZpDE",
        "outputId": "2bbd386e-83af-4a8e-f0d0-e94bceab793f"
      },
      "source": [
        "plt.figure(figsize=(16,8))\n",
        "plt.title(\"Close price History\")\n",
        "plt.plot(df['Close'])\n",
        "plt.xlabel(\"Date\")\n",
        "plt.ylabel(\"Close Price\")\n",
        "plt.show()"
      ],
      "execution_count": 6,
      "outputs": [
        {
          "output_type": "display_data",
          "data": {
            "image/png": "[encoded data removed]",
            "text/plain": [
              "<Figure size 1152x576 with 1 Axes>"
            ]
          },
          "metadata": {
            "needs_background": "light"
          }
        }
      ]
    },
    {
      "cell_type": "code",
      "metadata": {
        "colab": {
          "base_uri": "https://localhost:8080/"
        },
        "id": "xXn3NnFHDqe-",
        "outputId": "da308bd1-d91a-4c18-84ed-11281711d9a8"
      },
      "source": [
        "data=df.filter([\"Close\"])\n",
        "dataset= data.values\n",
        "training_data=math.ceil(len(dataset)* 0.8)\n",
        "training_data\n"
      ],
      "execution_count": 7,
      "outputs": [
        {
          "output_type": "execute_result",
          "data": {
            "text/plain": [
              "1728"
            ]
          },
          "metadata": {},
          "execution_count": 7
        }
      ]
    },
    {
      "cell_type": "code",
      "metadata": {
        "colab": {
          "base_uri": "https://localhost:8080/"
        },
        "id": "6U53oBZXEJwB",
        "outputId": "5b4924f4-2cb4-4f6d-f3db-ff6d211fbfc8"
      },
      "source": [
        "scaler= MinMaxScaler(feature_range=(0,1))\n",
        "scaled_data= scaler.fit_transform(dataset)\n",
        "scaled_data"
      ],
      "execution_count": 8,
      "outputs": [
        {
          "output_type": "execute_result",
          "data": {
            "text/plain": [
              "array([[0.00800851],\n",
              "       [0.00886352],\n",
              "       [0.01063932],\n",
              "       ...,\n",
              "       [0.87845632],\n",
              "       [0.89091402],\n",
              "       [1.        ]])"
            ]
          },
          "metadata": {},
          "execution_count": 8
        }
      ]
    },
    {
      "cell_type": "code",
      "metadata": {
        "colab": {
          "base_uri": "https://localhost:8080/"
        },
        "id": "4pX8elOuLFj5",
        "outputId": "68839ea8-5898-4143-a996-5cd5997e044c"
      },
      "source": [
        "train_data= scaled_data[0:training_data, :]\n",
        "x_train=[]\n",
        "y_train=[]\n",
        "for i in range(60, len(train_data)):\n",
        "  x_train.append(train_data[i-60:i,0 ])\n",
        "  y_train.append(train_data[i,0])\n",
        "  if i<=60:\n",
        "    print(x_train)\n",
        "    print(y_train)\n",
        "    print()\n"
      ],
      "execution_count": 9,
      "outputs": [
        {
          "output_type": "stream",
          "name": "stdout",
          "text": [
            "[array([0.00800851, 0.00886352, 0.01063932, 0.01233001, 0.0120708 ,\n",
            "       0.01265499, 0.01238804, 0.01193925, 0.01132797, 0.01321984,\n",
            "       0.01492601, 0.01439984, 0.01151754, 0.0142683 , 0.01156011,\n",
            "       0.02171583, 0.02093046, 0.0219557 , 0.02417255, 0.02551503,\n",
            "       0.02540284, 0.02498888, 0.02675307, 0.02841279, 0.03029307,\n",
            "       0.03333011, 0.03970984, 0.03980655, 0.04335816, 0.04601218,\n",
            "       0.04145083, 0.04320727, 0.04317245, 0.0480975 , 0.04739723,\n",
            "       0.04869328, 0.05102233, 0.05231841, 0.05605184, 0.05877163,\n",
            "       0.05955701, 0.0598317 , 0.05518136, 0.05405938, 0.05422575,\n",
            "       0.05859755, 0.05982784, 0.06247027, 0.0686991 , 0.07700938,\n",
            "       0.0754541 , 0.07545796, 0.08146629, 0.08334656, 0.08200792,\n",
            "       0.08078538, 0.07951253, 0.08374116, 0.08664281, 0.08785763])]\n",
            "[0.08485539492813565]\n",
            "\n"
          ]
        }
      ]
    },
    {
      "cell_type": "code",
      "metadata": {
        "colab": {
          "base_uri": "https://localhost:8080/"
        },
        "id": "4cVNtx4jNTIW",
        "outputId": "c1e90e42-815f-4b57-e133-7bcfdd0062c0"
      },
      "source": [
        "x_train, y_train= np.array(x_train), np.array(y_train)\n",
        "x_train.shape"
      ],
      "execution_count": 10,
      "outputs": [
        {
          "output_type": "execute_result",
          "data": {
            "text/plain": [
              "(1668, 60)"
            ]
          },
          "metadata": {},
          "execution_count": 10
        }
      ]
    },
    {
      "cell_type": "code",
      "metadata": {
        "colab": {
          "base_uri": "https://localhost:8080/"
        },
        "id": "s7R_2KbgNvfn",
        "outputId": "530d8656-2d74-48c9-e8aa-27a8e1683bec"
      },
      "source": [
        "x_train=np.reshape(x_train, (x_train.shape[0],x_train.shape[1],1))\n",
        "x_train.shape"
      ],
      "execution_count": 11,
      "outputs": [
        {
          "output_type": "execute_result",
          "data": {
            "text/plain": [
              "(1668, 60, 1)"
            ]
          },
          "metadata": {},
          "execution_count": 11
        }
      ]
    },
    {
      "cell_type": "code",
      "metadata": {
        "id": "6fL_c6R7OnEs"
      },
      "source": [
        "model=Sequential()\n",
        "model.add(LSTM(50, return_sequences=True, input_shape= (x_train.shape[1], 1)))\n",
        "model.add(LSTM(50, return_sequences=False))\n",
        "model.add(Dense(25))\n",
        "model.add(Dense(1))\n"
      ],
      "execution_count": 12,
      "outputs": []
    },
    {
      "cell_type": "code",
      "metadata": {
        "id": "QTGpTarMzw2E"
      },
      "source": [
        "model.compile(optimizer='adam', loss='mean_squared_error')"
      ],
      "execution_count": 13,
      "outputs": []
    },
    {
      "cell_type": "code",
      "metadata": {
        "colab": {
          "base_uri": "https://localhost:8080/"
        },
        "id": "LAUoHOATz85m",
        "outputId": "1e842f97-d0b1-45c2-c124-018ae3a211a5"
      },
      "source": [
        "model.fit(x_train, y_train, batch_size=1, epochs=1)"
      ],
      "execution_count": 14,
      "outputs": [
        {
          "output_type": "stream",
          "name": "stdout",
          "text": [
            "1668/1668 [==============================] - 52s 27ms/step - loss: 4.4544e-04\n"
          ]
        },
        {
          "output_type": "execute_result",
          "data": {
            "text/plain": [
              "<keras.callbacks.History at 0x7fab5647f390>"
            ]
          },
          "metadata": {},
          "execution_count": 14
        }
      ]
    },
    {
      "cell_type": "code",
      "metadata": {
        "id": "v2rKTvCz0g2Y"
      },
      "source": [
        "test_data= scaled_data[training_data-60:, :]\n",
        "x_test=[]\n",
        "y_test=dataset[training_data:,: ]\n",
        "for i in range(60, len(test_data)):\n",
        "  x_test.append(test_data[i-60:i,0 ])\n",
        "  "
      ],
      "execution_count": 15,
      "outputs": []
    },
    {
      "cell_type": "code",
      "metadata": {
        "id": "Wk7TH2Gm0y-s"
      },
      "source": [
        "x_test= np.array(x_test)\n"
      ],
      "execution_count": 16,
      "outputs": []
    },
    {
      "cell_type": "code",
      "metadata": {
        "id": "6a8Iul7N1_bs"
      },
      "source": [
        "x_test=np.reshape(x_test, (x_test.shape[0], x_test.shape[1], 1))"
      ],
      "execution_count": 17,
      "outputs": []
    },
    {
      "cell_type": "code",
      "metadata": {
        "id": "FiLm-bqd1cR7"
      },
      "source": [
        "prediction= model.predict(x_test)\n",
        "prediction = scaler.inverse_transform(prediction)\n"
      ],
      "execution_count": 18,
      "outputs": []
    },
    {
      "cell_type": "code",
      "metadata": {
        "colab": {
          "base_uri": "https://localhost:8080/"
        },
        "id": "VyO1PYvsRJYa",
        "outputId": "65f81605-1996-44be-d3de-3a4b342d384c"
      },
      "source": [
        "rsme=np.sqrt(np.mean((prediction-y_test)**2))\n",
        "rsme"
      ],
      "execution_count": 19,
      "outputs": [
        {
          "output_type": "execute_result",
          "data": {
            "text/plain": [
              "3.370711330971057"
            ]
          },
          "metadata": {},
          "execution_count": 19
        }
      ]
    },
    {
      "cell_type": "code",
      "metadata": {
        "colab": {
          "base_uri": "https://localhost:8080/",
          "height": 614
        },
        "id": "C0CD2araRgrG",
        "outputId": "03431edb-9b82-4113-e62c-2cb3cef71afa"
      },
      "source": [
        "train= data[:training_data]\n",
        "valid=data[ training_data:]\n",
        "valid[\"Prediction\"]=prediction\n",
        "plt.figure(figsize=(16,8))\n",
        "plt.title(\"Model\")\n",
        "plt.xlabel(\"Date\", )\n",
        "plt.ylabel(\"Close Price \")\n",
        "plt.plot(train[\"Close\"])\n",
        "plt.plot(valid[[\"Close\", \"Prediction\"]])\n",
        "plt.legend([\"Train\", \"Val\", 'Prediction'], loc='lower right')\n",
        "plt.show()\n"
      ],
      "execution_count": 20,
      "outputs": [
        {
          "output_type": "stream",
          "name": "stderr",
          "text": [
            "/usr/local/lib/python3.7/dist-packages/ipykernel_launcher.py:3: SettingWithCopyWarning: \n",
            "A value is trying to be set on a copy of a slice from a DataFrame.\n",
            "Try using .loc[row_indexer,col_indexer] = value instead\n",
            "\n",
            "See the caveats in the documentation: https://pandas.pydata.org/pandas-docs/stable/user_guide/indexing.html#returning-a-view-versus-a-copy\n",
            "  This is separate from the ipykernel package so we can avoid doing imports until\n"
          ]
        },
        {
          "output_type": "display_data",
          "data": {
            "image/png": "[encoded data removed]",
            "text/plain": [
              "<Figure size 1152x576 with 1 Axes>"
            ]
          },
          "metadata": {
            "needs_background": "light"
          }
        }
      ]
    },
    {
      "cell_type": "code",
      "metadata": {
        "colab": {
          "base_uri": "https://localhost:8080/",
          "height": 447
        },
        "id": "LVvXDe7UbF1k",
        "outputId": "fe7070f9-13f3-4ad8-94e7-fa7584fc0077"
      },
      "source": [
        "valid"
      ],
      "execution_count": 21,
      "outputs": [
        {
          "output_type": "execute_result",
          "data": {
            "text/html": [
              "<div>\n",
              "<style scoped>\n",
              "    .dataframe tbody tr th:only-of-type {\n",
              "        vertical-align: middle;\n",
              "    }\n",
              "\n",
              "    .dataframe tbody tr th {\n",
              "        vertical-align: top;\n",
              "    }\n",
              "\n",
              "    .dataframe thead th {\n",
              "        text-align: right;\n",
              "    }\n",
              "</style>\n",
              "<table border=\"1\" class=\"dataframe\">\n",
              "  <thead>\n",
              "    <tr style=\"text-align: right;\">\n",
              "      <th></th>\n",
              "      <th>Close</th>\n",
              "      <th>Prediction</th>\n",
              "    </tr>\n",
              "    <tr>\n",
              "      <th>Date</th>\n",
              "      <th></th>\n",
              "      <th></th>\n",
              "    </tr>\n",
              "  </thead>\n",
              "  <tbody>\n",
              "    <tr>\n",
              "      <th>2018-11-13</th>\n",
              "      <td>48.057499</td>\n",
              "      <td>54.617908</td>\n",
              "    </tr>\n",
              "    <tr>\n",
              "      <th>2018-11-14</th>\n",
              "      <td>46.700001</td>\n",
              "      <td>53.952286</td>\n",
              "    </tr>\n",
              "    <tr>\n",
              "      <th>2018-11-15</th>\n",
              "      <td>47.852501</td>\n",
              "      <td>53.139778</td>\n",
              "    </tr>\n",
              "    <tr>\n",
              "      <th>2018-11-16</th>\n",
              "      <td>48.382500</td>\n",
              "      <td>52.442081</td>\n",
              "    </tr>\n",
              "    <tr>\n",
              "      <th>2018-11-19</th>\n",
              "      <td>46.465000</td>\n",
              "      <td>51.925091</td>\n",
              "    </tr>\n",
              "    <tr>\n",
              "      <th>...</th>\n",
              "      <td>...</td>\n",
              "      <td>...</td>\n",
              "    </tr>\n",
              "    <tr>\n",
              "      <th>2020-07-27</th>\n",
              "      <td>94.809998</td>\n",
              "      <td>99.270279</td>\n",
              "    </tr>\n",
              "    <tr>\n",
              "      <th>2020-07-28</th>\n",
              "      <td>93.252502</td>\n",
              "      <td>98.906075</td>\n",
              "    </tr>\n",
              "    <tr>\n",
              "      <th>2020-07-29</th>\n",
              "      <td>95.040001</td>\n",
              "      <td>98.491920</td>\n",
              "    </tr>\n",
              "    <tr>\n",
              "      <th>2020-07-30</th>\n",
              "      <td>96.190002</td>\n",
              "      <td>98.283699</td>\n",
              "    </tr>\n",
              "    <tr>\n",
              "      <th>2020-07-31</th>\n",
              "      <td>106.260002</td>\n",
              "      <td>98.307503</td>\n",
              "    </tr>\n",
              "  </tbody>\n",
              "</table>\n",
              "<p>431 rows × 2 columns</p>\n",
              "</div>"
            ],
            "text/plain": [
              "                 Close  Prediction\n",
              "Date                              \n",
              "2018-11-13   48.057499   54.617908\n",
              "2018-11-14   46.700001   53.952286\n",
              "2018-11-15   47.852501   53.139778\n",
              "2018-11-16   48.382500   52.442081\n",
              "2018-11-19   46.465000   51.925091\n",
              "...                ...         ...\n",
              "2020-07-27   94.809998   99.270279\n",
              "2020-07-28   93.252502   98.906075\n",
              "2020-07-29   95.040001   98.491920\n",
              "2020-07-30   96.190002   98.283699\n",
              "2020-07-31  106.260002   98.307503\n",
              "\n",
              "[431 rows x 2 columns]"
            ]
          },
          "metadata": {},
          "execution_count": 21
        }
      ]
    },
    {
      "cell_type": "code",
      "metadata": {
        "colab": {
          "base_uri": "https://localhost:8080/"
        },
        "id": "1h4ISo1wAVjc",
        "outputId": "ff17ef00-8681-4058-e66f-f2e2414e93da"
      },
      "source": [
        "df = yf.download('AAPL','2012-01-01','2020-08-01')\n",
        "new_df=df.filter(['Close'])\n",
        "last60= new_df[-60:].values\n",
        "last60_scaled=scaler.transform(last60)\n",
        "X_test=[]\n",
        "X_test.append(last60_scaled)\n",
        "X_test=np.array(X_test)\n",
        "X_test= np.reshape(X_test,(X_test.shape[0], X_test.shape[1],1))\n",
        "pred_price= model.predict(X_test)\n",
        "pred_price= scaler.inverse_transform(pred_price)\n",
        "print(pred_price)"
      ],
      "execution_count": 22,
      "outputs": [
        {
          "output_type": "stream",
          "name": "stdout",
          "text": [
            "\r[*********************100%***********************]  1 of 1 completed\n",
            "[[99.44076]]\n"
          ]
        }
      ]
    },
    {
      "cell_type": "code",
      "metadata": {
        "colab": {
          "base_uri": "https://localhost:8080/"
        },
        "id": "HMIJSEAKDaKc",
        "outputId": "9ba2448a-9d6e-447c-85be-39a90457b471"
      },
      "source": [
        "df2 = yf.download('AAPL','2020-07-30','2020-08-01')\n",
        "print(df2['Close'])"
      ],
      "execution_count": 26,
      "outputs": [
        {
          "output_type": "stream",
          "name": "stdout",
          "text": [
            "\r[*********************100%***********************]  1 of 1 completed\n",
            "Date\n",
            "2020-07-30     96.190002\n",
            "2020-07-31    106.260002\n",
            "Name: Close, dtype: float64\n"
          ]
        }
      ]
    }
  ]
}